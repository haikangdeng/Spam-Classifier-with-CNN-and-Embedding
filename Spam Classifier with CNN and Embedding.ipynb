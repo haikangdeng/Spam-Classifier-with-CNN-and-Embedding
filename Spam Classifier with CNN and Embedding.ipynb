{
 "cells": [
  {
   "cell_type": "markdown",
   "metadata": {},
   "source": [
    "# Convolutional Spam Classifier"
   ]
  },
  {
   "cell_type": "code",
   "execution_count": 1,
   "metadata": {},
   "outputs": [],
   "source": [
    "import matplotlib.pyplot as plt\n",
    "import torch\n",
    "import torch.nn as nn\n",
    "import torch.nn.functional as F\n",
    "from torchtext.legacy import data\n",
    "from torchtext.legacy import datasets\n",
    "import random\n",
    "import numpy as np\n",
    "import spacy\n",
    "import torch.optim as optim\n",
    "import time\n",
    "from matplotlib.ticker import PercentFormatter\n",
    "from sklearn.decomposition import PCA\n",
    "from sklearn.decomposition import TruncatedSVD\n",
    "\n",
    "#SEED1 = np.random.randint(9999)\n",
    "#SEED2 = np.random.randint(9999)\n",
    "SEED1 = 571\n",
    "SEED2 = 9801\n",
    "torch.backends.cudnn.deterministic = True # allow reproduction of results on different devices"
   ]
  },
  {
   "cell_type": "markdown",
   "metadata": {},
   "source": [
    "## 1. Data Preparation"
   ]
  },
  {
   "cell_type": "markdown",
   "metadata": {},
   "source": [
    "Import and split Data"
   ]
  },
  {
   "cell_type": "code",
   "execution_count": 2,
   "metadata": {},
   "outputs": [],
   "source": [
    "TEXT = data.Field(tokenize = 'spacy', tokenizer_language = 'en_core_web_sm', batch_first = True)  \n",
    "LABEL = data.LabelField(dtype = torch.float)\n",
    "fields = [(None, None), ('text', TEXT), ('label', LABEL)]\n",
    "dataset = data.TabularDataset.splits(   path = 'data',\n",
    "                                        train = 'spam.csv',\n",
    "                                        format = 'csv',\n",
    "                                        fields = fields,\n",
    "                                        skip_header = True)[0]\n",
    "\n",
    "trainValid_data, test_data = dataset.split(split_ratio=0.85, random_state = random.seed(SEED1))\n",
    "train_data, valid_data = trainValid_data.split(split_ratio=0.7/0.85, random_state = random.seed(SEED2))"
   ]
  },
  {
   "cell_type": "markdown",
   "metadata": {},
   "source": [
    "Build vocab and create iterators"
   ]
  },
  {
   "cell_type": "code",
   "execution_count": 20,
   "metadata": {},
   "outputs": [],
   "source": [
    "TEXT.build_vocab(train_data, max_size = 25000)\n",
    "LABEL.build_vocab(train_data)\n",
    "device = torch.device('cuda' if torch.cuda.is_available() else 'cpu')\n",
    "train_itr, valid_itr, test_itr = data.BucketIterator.splits(\n",
    "    (train_data, valid_data, test_data), \n",
    "    sort = False,\n",
    "    batch_size = 64,\n",
    "    device = device)"
   ]
  },
  {
   "cell_type": "markdown",
   "metadata": {},
   "source": [
    "## 2. Build the Model"
   ]
  },
  {
   "cell_type": "code",
   "execution_count": 21,
   "metadata": {},
   "outputs": [],
   "source": [
    "class CNN(nn.Module):\n",
    "    def __init__(self, vocab_size, emb_dim, num_filter, filter_sizes, dropout, pad_idx):\n",
    "        super().__init__()\n",
    "        # Embedding Layer\n",
    "        self.embedding = nn.Embedding(vocab_size, emb_dim, padding_idx = pad_idx)\n",
    "        # Convolutional Layer\n",
    "        self.convs = nn.ModuleList([nn.Conv2d(in_channels = 1, \n",
    "                                              out_channels = num_filter, \n",
    "                                              kernel_size = (filter_size, emb_dim)) \n",
    "                                    for filter_size in filter_sizes])\n",
    "        # Fully Connected Linear Layer\n",
    "        self.fc = nn.Linear(len(filter_sizes)*num_filter, 1) # output_dim = 1\n",
    "        # Dropout for Regularization\n",
    "        self.dropout = nn.Dropout(dropout)\n",
    "        \n",
    "    def forward(self, text):\n",
    "        # embed: [batch_size=64, 1, sentence len, emb_dim=100]\n",
    "        embed = self.embedding(text).unsqueeze(1)\n",
    "        # conved: [batch_size=64, nun_filter, len(sentence)-filter_sizes[n]+1]\n",
    "        conved = [F.relu(cv(embed)).squeeze(3) for cv in self.convs]\n",
    "        # max pool respect to sentence\n",
    "        # pooled: [batch size=64, num_filter]\n",
    "        pooled = [F.max_pool1d(cvd, cvd.shape[2]).squeeze(2) for cvd in conved]\n",
    "        # concat: [batch size=64, num_filter * len(filter_sizes)]\n",
    "        concat = self.dropout(torch.cat(pooled, dim = 1))\n",
    "        return self.fc(concat)"
   ]
  },
  {
   "cell_type": "markdown",
   "metadata": {},
   "source": [
    "Create an instance of CNN class"
   ]
  },
  {
   "cell_type": "code",
   "execution_count": 22,
   "metadata": {},
   "outputs": [],
   "source": [
    "# CNN(vocab_size, emb_dim, num_filter, filter_sizes, dropout, pad_idx)\n",
    "model = CNN(len(TEXT.vocab), 100, 512, [2,3,4,5,6,7,8,9], 0.5, TEXT.vocab.stoi[TEXT.pad_token])"
   ]
  },
  {
   "cell_type": "markdown",
   "metadata": {},
   "source": [
    "## 3. Initialize Embedding\n",
    "Initialize word embedding with zeros"
   ]
  },
  {
   "cell_type": "code",
   "execution_count": 23,
   "metadata": {},
   "outputs": [],
   "source": [
    "model.embedding.weight.data = torch.zeros((len(TEXT.vocab), 100))\n",
    "model.embedding.weight.data[TEXT.vocab.stoi[TEXT.unk_token]] = torch.zeros(100)\n",
    "model.embedding.weight.data[TEXT.vocab.stoi[TEXT.unk_token]] = torch.zeros(100)"
   ]
  },
  {
   "cell_type": "markdown",
   "metadata": {},
   "source": [
    "## 4. Training"
   ]
  },
  {
   "cell_type": "markdown",
   "metadata": {},
   "source": [
    "Initialize optimizer and loss function and place it to the device"
   ]
  },
  {
   "cell_type": "code",
   "execution_count": 24,
   "metadata": {},
   "outputs": [],
   "source": [
    "optimizer = optim.Adam(model.parameters())\n",
    "model = model.to(device)\n",
    "criterion = nn.BCEWithLogitsLoss()\n",
    "criterion = criterion.to(device)"
   ]
  },
  {
   "cell_type": "markdown",
   "metadata": {},
   "source": [
    "Define a function for training which returns loss and accuracy"
   ]
  },
  {
   "cell_type": "code",
   "execution_count": 25,
   "metadata": {},
   "outputs": [],
   "source": [
    "def train(model, iterator, optimizer, criterion):\n",
    "    loss_ep = 0\n",
    "    acc_ep = 0\n",
    "    model.train()\n",
    "    for batch in iterator:\n",
    "        optimizer.zero_grad()\n",
    "        preds = model(batch.text).squeeze(1)\n",
    "        loss = criterion(preds, batch.label)\n",
    "        acc = sum((torch.round(torch.sigmoid(preds)) == batch.label).float())/len(preds)\n",
    "        loss.backward()\n",
    "        optimizer.step()\n",
    "        loss_ep += loss.item()\n",
    "        acc_ep += acc.item()\n",
    "    loss_avg = loss_ep/len(iterator)\n",
    "    acc_avg = acc_ep/len(iterator)\n",
    "    return loss_avg, acc_avg"
   ]
  },
  {
   "cell_type": "markdown",
   "metadata": {},
   "source": [
    "Define a function for evaluation"
   ]
  },
  {
   "cell_type": "code",
   "execution_count": 26,
   "metadata": {},
   "outputs": [],
   "source": [
    "def evaluate(model, iterator, criterion):\n",
    "    loss_ep = 0\n",
    "    acc_ep = 0\n",
    "    model.eval()\n",
    "    with torch.no_grad():\n",
    "        for batch in iterator:\n",
    "            preds = model(batch.text).squeeze(1)\n",
    "            loss = criterion(preds, batch.label)\n",
    "            acc = sum((torch.round(torch.sigmoid(preds)) == batch.label).float())/len(preds)\n",
    "            loss_ep += loss.item()\n",
    "            acc_ep += acc.item()\n",
    "    loss_avg = loss_ep/len(iterator)\n",
    "    acc_avg = acc_ep/len(iterator)\n",
    "    return loss_avg, acc_avg"
   ]
  },
  {
   "cell_type": "markdown",
   "metadata": {},
   "source": [
    "Define a function to measure time elapsed"
   ]
  },
  {
   "cell_type": "code",
   "execution_count": 27,
   "metadata": {},
   "outputs": [],
   "source": [
    "def epoch_time(start_time, end_time):\n",
    "    elapsed_time = end_time - start_time\n",
    "    elapsed_mins = int(elapsed_time / 60)\n",
    "    elapsed_secs = int(elapsed_time - (elapsed_mins * 60))\n",
    "    return elapsed_mins, elapsed_secs"
   ]
  },
  {
   "cell_type": "markdown",
   "metadata": {},
   "source": [
    "Training, takes several minutes"
   ]
  },
  {
   "cell_type": "code",
   "execution_count": 28,
   "metadata": {
    "scrolled": true
   },
   "outputs": [
    {
     "name": "stdout",
     "output_type": "stream",
     "text": [
      "Epoch: 1\n",
      "\tTrain Loss: 0.3086, Train Accuracy: 89.16%\n",
      "\tValid Loss: 0.0654, Valid Accuracy: 97.88%\n",
      "\tEpoch Time: 1m 22s\n",
      "Epoch: 2\n",
      "\tTrain Loss: 0.0317, Train Accuracy: 99.08%\n",
      "\tValid Loss: 0.0400, Valid Accuracy: 98.77%\n",
      "\tEpoch Time: 1m 24s\n",
      "Epoch: 3\n",
      "\tTrain Loss: 0.0041, Train Accuracy: 99.87%\n",
      "\tValid Loss: 0.0405, Valid Accuracy: 98.66%\n",
      "\tEpoch Time: 1m 19s\n",
      "Epoch: 4\n",
      "\tTrain Loss: 0.0008, Train Accuracy: 100.00%\n",
      "\tValid Loss: 0.0434, Valid Accuracy: 98.33%\n",
      "\tEpoch Time: 1m 20s\n",
      "Epoch: 5\n",
      "\tTrain Loss: 0.0004, Train Accuracy: 100.00%\n",
      "\tValid Loss: 0.0459, Valid Accuracy: 98.33%\n",
      "\tEpoch Time: 1m 23s\n"
     ]
    }
   ],
   "source": [
    "num_epoch = 5\n",
    "best_valid_loss = float('inf')\n",
    "acc_training = []\n",
    "loss_training = []\n",
    "acc_validation = []\n",
    "loss_validation = []\n",
    "\n",
    "for epoch in range(1, num_epoch+1):\n",
    "    start_time = time.time()\n",
    "    loss_train, acc_train = train(model, train_itr, optimizer, criterion)\n",
    "    loss_valid, acc_valid = evaluate(model, valid_itr, criterion)\n",
    "    acc_training.append(acc_train)\n",
    "    loss_training.append(loss_train)\n",
    "    acc_validation.append(acc_valid)\n",
    "    loss_validation.append(loss_valid)\n",
    "    end_time = time.time()\n",
    "    epoch_mins, epoch_secs = epoch_time(start_time, end_time)\n",
    "    if loss_valid < best_valid_loss:\n",
    "        best_valid_loss = loss_valid\n",
    "        torch.save(model.state_dict(), 'spam-model.pt')\n",
    "    \n",
    "    print(f'Epoch: {epoch}')\n",
    "    print(f'\\tTrain Loss: {loss_train:.4f}, Train Accuracy: {acc_train*100:.2f}%')\n",
    "    print(f'\\tValid Loss: {loss_valid:.4f}, Valid Accuracy: {acc_valid*100:.2f}%')\n",
    "    print(f'\\tEpoch Time: {epoch_mins}m {epoch_secs}s')\n",
    "    #print(model.embedding.weight.data)"
   ]
  },
  {
   "cell_type": "markdown",
   "metadata": {},
   "source": [
    "## 5. Result & Analysis\n",
    "Here is the loss and accuracy for test set"
   ]
  },
  {
   "cell_type": "code",
   "execution_count": 29,
   "metadata": {},
   "outputs": [
    {
     "name": "stdout",
     "output_type": "stream",
     "text": [
      "\tTest Loss: 0.0438, Test Accuracy: 98.77%\n"
     ]
    }
   ],
   "source": [
    "model.load_state_dict(torch.load('spam-model.pt'))\n",
    "loss_test, acc_test = evaluate(model, test_itr, criterion)\n",
    "print(f'\\tTest Loss: {loss_test:.4f}, Test Accuracy: {acc_test*100:.2f}%')"
   ]
  },
  {
   "cell_type": "markdown",
   "metadata": {},
   "source": [
    "Plot training result"
   ]
  },
  {
   "cell_type": "code",
   "execution_count": 30,
   "metadata": {},
   "outputs": [
    {
     "data": {
      "image/png": "[encoded data removed]",
      "text/plain": [
       "<Figure size 432x288 with 2 Axes>"
      ]
     },
     "metadata": {
      "needs_background": "light"
     },
     "output_type": "display_data"
    }
   ],
   "source": [
    "fig, ax1 = plt.subplots()\n",
    "ax1.set_xlabel('Epochs')\n",
    "ax1.set_ylabel('Accuracy')\n",
    "ax1.plot(np.arange(1,6), 100*np.array(acc_training), color='tab:red', marker = 'x')\n",
    "ax1.plot(np.arange(1,6), 100*np.array(acc_validation), color='tab:orange', marker = 'x')\n",
    "ax1.tick_params(axis='y')\n",
    "plt.legend(['Train_Accuracy','Valid_Accuracy'], loc='center')\n",
    "ax1.yaxis.set_major_formatter(PercentFormatter())\n",
    "\n",
    "ax2 = ax1.twinx()\n",
    "ax2.set_ylabel('Loss')\n",
    "ax2.plot(np.arange(1,6), np.array(loss_training), color='tab:blue', marker='D')\n",
    "ax2.plot(np.arange(1,6), np.array(loss_validation), color='tab:purple', marker='D')\n",
    "ax2.tick_params(axis='y')\n",
    "\n",
    "plt.xticks([1,2,3,4,5])\n",
    "plt.legend(['Train_Loss','Valid_Loss'], loc='right')\n",
    "fig.tight_layout()  # otherwise the right y-label is slightly clipped\n",
    "plt.show()"
   ]
  },
  {
   "cell_type": "markdown",
   "metadata": {},
   "source": [
    "Plot word embedding with the help of SVD"
   ]
  },
  {
   "cell_type": "code",
   "execution_count": 31,
   "metadata": {},
   "outputs": [],
   "source": [
    "def reduce_to_k_dim(M, k): \n",
    "    n_iters = 10\n",
    "    M_reduced = None\n",
    "    M_reduced = TruncatedSVD(n_components = k).fit_transform(M)\n",
    "    return M_reduced\n",
    "\n",
    "def plot_embedding(M_embedding, words):\n",
    "    xs = [row[0] for row in M_embedding]\n",
    "    ys = [row[1] for row in M_embedding]\n",
    "    for i, word in enumerate(words):\n",
    "        x = xs[i]\n",
    "        y = ys[i]\n",
    "        plt.scatter(x, y, marker='x', color='red')\n",
    "        plt.text(x, y, word)\n",
    "    plt.show()"
   ]
  },
  {
   "cell_type": "code",
   "execution_count": 32,
   "metadata": {},
   "outputs": [
    {
     "data": {
      "image/png": "[encoded data removed]",
      "text/plain": [
       "<Figure size 432x288 with 1 Axes>"
      ]
     },
     "metadata": {
      "needs_background": "light"
     },
     "output_type": "display_data"
    }
   ],
   "source": [
    "tensor_2d = reduce_to_k_dim(model.embedding.weight.data, 2)\n",
    "tensor2dArray = np.array(tensor_2d.tolist())\n",
    "    \n",
    "word_by_idx = vars(TEXT.vocab)['itos']\n",
    "plot_embedding(tensor2dArray[500:530,:], word_by_idx[500:530])"
   ]
  },
  {
   "cell_type": "code",
   "execution_count": null,
   "metadata": {},
   "outputs": [],
   "source": []
  }
 ],
 "metadata": {
  "kernelspec": {
   "display_name": "Python 3",
   "language": "python",
   "name": "python3"
  },
  "language_info": {
   "codemirror_mode": {
    "name": "ipython",
    "version": 3
   },
   "file_extension": ".py",
   "mimetype": "text/x-python",
   "name": "python",
   "nbconvert_exporter": "python",
   "pygments_lexer": "ipython3",
   "version": "3.6.13"
  }
 },
 "nbformat": 4,
 "nbformat_minor": 2
}
